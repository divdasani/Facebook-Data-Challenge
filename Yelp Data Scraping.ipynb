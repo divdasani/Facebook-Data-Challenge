{
 "cells": [
  {
   "cell_type": "markdown",
   "metadata": {},
   "source": [
    "# Yelp Data Review Scraping\n",
    "### Div Dasani\n",
    "\n",
    "Scraped review data from Yelp ([data source](https://www.yelp.com/dataset)) and paired with data provided by Facebook to understand population sentiment regarding different types of restaurants in San Francisco."
   ]
  },
  {
   "cell_type": "code",
   "execution_count": 1,
   "metadata": {
    "collapsed": true
   },
   "outputs": [],
   "source": [
    "import pandas as pd\n",
    "import numpy as np\n",
    "import matplotlib.pyplot as plt"
   ]
  },
  {
   "cell_type": "markdown",
   "metadata": {},
   "source": [
    "First, the data is read in as a Pandas dataframe. There are two datasets, one containing business information and another containing reviews for different businesses. Thus, these datasets are joined on *business_id*, and irrelevant parameters are removed from the dataframe. Below is a sample of what the cleaned data looks like."
   ]
  },
  {
   "cell_type": "code",
   "execution_count": 2,
   "metadata": {},
   "outputs": [
    {
     "data": {
      "text/html": [
       "<div>\n",
       "<style>\n",
       "    .dataframe thead tr:only-child th {\n",
       "        text-align: right;\n",
       "    }\n",
       "\n",
       "    .dataframe thead th {\n",
       "        text-align: left;\n",
       "    }\n",
       "\n",
       "    .dataframe tbody tr th {\n",
       "        vertical-align: top;\n",
       "    }\n",
       "</style>\n",
       "<table border=\"1\" class=\"dataframe\">\n",
       "  <thead>\n",
       "    <tr style=\"text-align: right;\">\n",
       "      <th></th>\n",
       "      <th>stars_x</th>\n",
       "      <th>text</th>\n",
       "      <th>name</th>\n",
       "      <th>categories</th>\n",
       "    </tr>\n",
       "  </thead>\n",
       "  <tbody>\n",
       "    <tr>\n",
       "      <th>0</th>\n",
       "      <td>5</td>\n",
       "      <td>Super simple place but amazing nonetheless. It...</td>\n",
       "      <td>\"Wilensky's\"</td>\n",
       "      <td>Diners;Food;Restaurants;Delis</td>\n",
       "    </tr>\n",
       "    <tr>\n",
       "      <th>1</th>\n",
       "      <td>5</td>\n",
       "      <td>Small unassuming place that changes their menu...</td>\n",
       "      <td>\"Tuck Shop\"</td>\n",
       "      <td>Restaurants;Canadian (New);Italian</td>\n",
       "    </tr>\n",
       "    <tr>\n",
       "      <th>2</th>\n",
       "      <td>5</td>\n",
       "      <td>Lester's is located in a beautiful neighborhoo...</td>\n",
       "      <td>\"Lester's Deli\"</td>\n",
       "      <td>Specialty Food;Food;Sandwiches;Restaurants;Bur...</td>\n",
       "    </tr>\n",
       "    <tr>\n",
       "      <th>3</th>\n",
       "      <td>4</td>\n",
       "      <td>Love coming here. Yes the place always needs t...</td>\n",
       "      <td>\"Five Guys\"</td>\n",
       "      <td>Fast Food;Restaurants;Burgers</td>\n",
       "    </tr>\n",
       "    <tr>\n",
       "      <th>4</th>\n",
       "      <td>4</td>\n",
       "      <td>Had their chocolate almond croissant and it wa...</td>\n",
       "      <td>\"Maison Christian Faure\"</td>\n",
       "      <td>Bakeries;Restaurants;Food;Sandwiches;Cafes;Cof...</td>\n",
       "    </tr>\n",
       "  </tbody>\n",
       "</table>\n",
       "</div>"
      ],
      "text/plain": [
       "   stars_x                                               text  \\\n",
       "0        5  Super simple place but amazing nonetheless. It...   \n",
       "1        5  Small unassuming place that changes their menu...   \n",
       "2        5  Lester's is located in a beautiful neighborhoo...   \n",
       "3        4  Love coming here. Yes the place always needs t...   \n",
       "4        4  Had their chocolate almond croissant and it wa...   \n",
       "\n",
       "                       name                                         categories  \n",
       "0              \"Wilensky's\"                      Diners;Food;Restaurants;Delis  \n",
       "1               \"Tuck Shop\"                 Restaurants;Canadian (New);Italian  \n",
       "2           \"Lester's Deli\"  Specialty Food;Food;Sandwiches;Restaurants;Bur...  \n",
       "3               \"Five Guys\"                      Fast Food;Restaurants;Burgers  \n",
       "4  \"Maison Christian Faure\"  Bakeries;Restaurants;Food;Sandwiches;Cafes;Cof...  "
      ]
     },
     "execution_count": 2,
     "metadata": {},
     "output_type": "execute_result"
    }
   ],
   "source": [
    "df_reviews = pd.read_csv('yelp_review.csv')\n",
    "df_businesses = pd.read_csv('yelp_business.csv')\n",
    "\n",
    "df_merged = pd.merge(df_reviews, df_businesses, on='business_id', how='left')\n",
    "df_merged = df_merged[['stars_x','text','name','categories']]\n",
    "df_merged.head()"
   ]
  },
  {
   "cell_type": "markdown",
   "metadata": {},
   "source": [
    "Next, information regarding the number of reviews and average star rating are extracted for several different types of restaurants."
   ]
  },
  {
   "cell_type": "code",
   "execution_count": 3,
   "metadata": {
    "collapsed": true
   },
   "outputs": [],
   "source": [
    "types = ['Mexican','Italian','Japanese','Mediterranean','Chinese','Vietnamese','Indian']\n",
    "reviews = []\n",
    "ratings = []\n",
    "for type in types:\n",
    "    df_type = df_merged[df_merged['categories'].str.contains(type)]\n",
    "    ratings.append(len(df_type))\n",
    "    reviews.append(df_type[['stars_x']].mean(axis=0))\n",
    "\n",
    "types.append('Average')\n",
    "reviews.append(np.mean(reviews))\n",
    "ratings.append(np.mean(ratings))"
   ]
  },
  {
   "cell_type": "markdown",
   "metadata": {},
   "source": [
    "Finally, this data is illustrated as a scatterplot, where the number of reviews is used to represent the popularity of a restaurant type, while the average review is used to represent how satisfied consumers are with this type of restaurant.\n",
    "<br>\n",
    "<br>\n",
    "As depicted by the chart, Chinese restaurants have above average popularity, but are far less satisfying for coonsumers than the average restaurant. For this reason, we recommended Zuck open a Chinese restaurant, and focus on differentiating himself from the competition by understanding the negative aspects of these establishments (through review data), and making sure to avoid those in his business.\n",
    "<br>\n",
    "<br>\n",
    "An alternate recommendation would be a Mexican restaurant, as these are very popular among San Francisco residents. However, these restaurants are only slightly below the average in satisfaction score, so it may be hard for Zuck to distinguish himself from his competition."
   ]
  },
  {
   "cell_type": "code",
   "execution_count": 23,
   "metadata": {},
   "outputs": [
    {
     "data": {
      "image/png": "[encoded data removed]",
      "text/plain": [
       "<matplotlib.figure.Figure at 0x2d8c1a54908>"
      ]
     },
     "metadata": {},
     "output_type": "display_data"
    }
   ],
   "source": [
    "fig, ax = plt.subplots()\n",
    "ax.scatter(ratings, reviews)\n",
    "\n",
    "for i in range(len(types)): \n",
    "    ax.annotate(types[i], (ratings[i], reviews[i]))\n",
    "\n",
    "plt.xlabel('Popularity')\n",
    "plt.ylabel('Satisfaction')\n",
    "plt.title('Popularity vs. Satisfaction for different types of restaurants in SF')\n",
    "plt.plot(ratings[-1]*np.ones(7), np.linspace(3.4,4,7), color='k')\n",
    "plt.plot(np.linspace(5*10**4,30*10**4,7), reviews[-1]*np.ones(7), color='k')\n",
    "plt.show()"
   ]
  }
 ],
 "metadata": {
  "kernelspec": {
   "display_name": "Python 3",
   "language": "python",
   "name": "python3"
  },
  "language_info": {
   "codemirror_mode": {
    "name": "ipython",
    "version": 3
   },
   "file_extension": ".py",
   "mimetype": "text/x-python",
   "name": "python",
   "nbconvert_exporter": "python",
   "pygments_lexer": "ipython3",
   "version": "3.6.3"
  }
 },
 "nbformat": 4,
 "nbformat_minor": 2
}
